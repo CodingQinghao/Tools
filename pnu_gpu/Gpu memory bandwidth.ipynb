{
 "cells": [
  {
   "cell_type": "code",
   "execution_count": 3,
   "metadata": {},
   "outputs": [],
   "source": [
    "import torch\n",
    "import copy\n",
    "import time\n",
    "import gc\n",
    "import torch.cuda.comm"
   ]
  },
  {
   "cell_type": "code",
   "execution_count": 4,
   "metadata": {},
   "outputs": [
    {
     "data": {
      "text/plain": [
       "<torch.autograd.grad_mode.set_grad_enabled at 0x7f60d44f8610>"
      ]
     },
     "execution_count": 4,
     "metadata": {},
     "output_type": "execute_result"
    }
   ],
   "source": [
    "torch.autograd.set_grad_enabled(False)"
   ]
  },
  {
   "cell_type": "code",
   "execution_count": 5,
   "metadata": {},
   "outputs": [],
   "source": [
    "test1 = torch.nn.Linear(25000, 25000, bias=False).half()\n",
    "test2 = copy.deepcopy(test1)\n",
    "test3 = torch.nn.Linear(25000, 25000, bias=False).half()\n",
    "test4 = copy.deepcopy(test3)"
   ]
  },
  {
   "cell_type": "code",
   "execution_count": 6,
   "metadata": {},
   "outputs": [],
   "source": [
    "foo = torch.tensor(0).to(\"cuda\")\n",
    "initial_memory = torch.cuda.memory_allocated()/(1024**3)\n",
    "test1.to(\"cuda\")\n",
    "test3.to(\"cuda\")\n",
    "final_memory = torch.cuda.memory_allocated()/(1024**3)"
   ]
  },
  {
   "cell_type": "code",
   "execution_count": 7,
   "metadata": {},
   "outputs": [
    {
     "name": "stdout",
     "output_type": "stream",
     "text": [
      "With pinned memory, detach, broadcast\n"
     ]
    }
   ],
   "source": [
    "print(\"With pinned memory, detach, broadcast\")\n",
    "for param in test2.parameters():\n",
    "    param.data = param.data.detach().pin_memory() #With detatch\n",
    "    #param.data.pin_memory() #No detatch\n",
    "    gc.collect()\n",
    "    torch.cuda.empty_cache()\n",
    "for param in test4.parameters():\n",
    "    param.data = param.data.detach().pin_memory() #With detatch\n",
    "    #param.data.pin_memory() #No detatch\n",
    "    gc.collect()\n",
    "    torch.cuda.empty_cache()"
   ]
  },
  {
   "cell_type": "code",
   "execution_count": 8,
   "metadata": {},
   "outputs": [],
   "source": [
    "for param1 in test1.parameters():\n",
    "    param1.data *= 0 \n",
    "    param1.data += 1\n",
    "\n",
    "for param1 in test3.parameters():\n",
    "    param1.data *= 0 \n",
    "    param1.data += 1"
   ]
  },
  {
   "cell_type": "code",
   "execution_count": 9,
   "metadata": {},
   "outputs": [
    {
     "name": "stdout",
     "output_type": "stream",
     "text": [
      "time for  30  is  3.1085686683654785  seconds\n",
      "total memory transferred was  69.84921455383301  gb\n",
      "bandwidth is  22.46989595715141 Gbps\n"
     ]
    }
   ],
   "source": [
    "num_loops = 30\n",
    "\n",
    "start_time = time.time()\n",
    "extrastream = torch.cuda.Stream(device=0,priority = -1)\n",
    "with torch.no_grad():\n",
    "    for i in range(num_loops):\n",
    "        #with torch.cuda.stream(cudastreams[0]):\n",
    "\n",
    "        for param1,param2 in zip(test1.parameters(),test2.parameters()):\n",
    "            with torch.cuda.stream(extrastream):\n",
    "                torch.cuda.comm.broadcast(param2.data,out = [param1.data])\n",
    "\n",
    "        for param1,param2 in zip(test3.parameters(),test4.parameters()):\n",
    "            torch.cuda.comm.broadcast(param2.data,out = [param1.data])\n",
    "\n",
    "        torch.cuda.synchronize()\n",
    "\n",
    "del extrastream\n",
    "\n",
    "end_time = time.time()\n",
    "bandwidth = num_loops * (final_memory - initial_memory) / (end_time - start_time)\n",
    "print(\"time for \",num_loops, \" is \", (end_time - start_time), \" seconds\")\n",
    "print(\"total memory transferred was \",num_loops * (final_memory - initial_memory), \" gb\")\n",
    "print(\"bandwidth is \",bandwidth , \"Gbps\")"
   ]
  },
  {
   "cell_type": "code",
   "execution_count": null,
   "metadata": {},
   "outputs": [],
   "source": []
  }
 ],
 "metadata": {
  "kernelspec": {
   "display_name": "Python 3",
   "language": "python",
   "name": "python3"
  },
  "language_info": {
   "codemirror_mode": {
    "name": "ipython",
    "version": 3
   },
   "file_extension": ".py",
   "mimetype": "text/x-python",
   "name": "python",
   "nbconvert_exporter": "python",
   "pygments_lexer": "ipython3",
   "version": "3.8.5"
  }
 },
 "nbformat": 4,
 "nbformat_minor": 5
}
